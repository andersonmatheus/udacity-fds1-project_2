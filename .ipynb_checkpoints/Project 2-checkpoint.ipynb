{
 "cells": [
  {
   "cell_type": "markdown",
   "metadata": {},
   "source": [
    "# Projeto: análise de um conjunto de dados referente aos tripulantes e passageiros a bordo do Titanic\n",
    "\n",
    "## Conteúdo\n",
    "<ul>\n",
    "<li><a href=\"#intro\">Introdução</a></li>\n",
    "<li><a href=\"#wrangling\">Data Wrangling</a></li>\n",
    "    <ul>\n",
    "        <li><a href=\"#general_properties\">Propriedades Gerais</a></li>\n",
    "        <li><a href=\"#labels_considerations\">Observações sobre os rótulos de colunas</a></li>\n",
    "    </ul>\n",
    "<li><a href=\"#data_cleaning\">Data Cleaning</a></li>\n",
    "        <ul>\n",
    "            <li><a href=\"#column_removal\">Remoção de colunas desnecessárias</a></li>\n",
    "            <li><a href=\"#label_update\">Atualização do padrão dos rótulos de coluna</a></li>\n",
    "            <li><a href=\"#null_treatment\">Tratamento de colunas com valores nulos</a></li>\n",
    "            <li><a href=\"#datatype_change\">Mudanças de tipo de dados</a></li> \n",
    "        </ul>\n",
    "<li><a href=\"#eda\">Exploratory Data Analysis</a></li>\n",
    "    <ul>\n",
    "        <li><a href=\"#question_1\">Questão 1: qual é a relação entre a idade e o fato de ser um sobrevivente ou um não-sobrevivente?</a></li>\n",
    "        <li><a href=\"#question_2\">Questão 2: qual a relação entre a classe do bilhete entre os sobreviventes e os não-sobreviventes?</a></li>\n",
    "        <li><a href=\"#question_3\">Questão 3: qual a relevância do sexo em relação à sobrevivência?</a></li>\n",
    "    </ul>\n",
    "<li><a href=\"#conclusions\">Conclusões</a></li>\n",
    "    <ul>\n",
    "        <li><a href=\"#final_considerations\">Considerações Finais</a></li>\n",
    "    </ul>\n",
    "</ul>"
   ]
  },
  {
   "cell_type": "markdown",
   "metadata": {},
   "source": [
    "<a id='intro'></a>\n",
    "## Introdução\n",
    "\n",
    "*\"O acidente do RMS Titatic é um dos mais infames naufrágios da história. Em 15 de abril de 1912, durante sua viagem de estreia, o Titanic afundou depois de colidir com um iceberg provocando a morte de 1502 dos seus 2224 passageiros e tripulação. Tal tragédia chocou a comunidade internacional e levou a regulamentos de segurança mais rígidos para embarcações\"*\n",
    "<br>\n",
    "*(tradução livre do <a href=\"https://www.kaggle.com/c/titanic\">**texto original**</a>)*\n",
    "<br>\n",
    "<br>\n",
    "A presente análise tem o untuito de explorar um dataset que contém dados dos passageiros e da tripulação do RMS Titanic em sua primeira e única viagem. O objetivo é levantar questões relevantes a respeito do naufrário através da aplicação de técnicas de análises de dados e de estatística descritiva."
   ]
  },
  {
   "cell_type": "code",
   "execution_count": 1,
   "metadata": {},
   "outputs": [],
   "source": [
    "# importação de pacotes e carregamento dos dados\n",
    "import pandas as pd\n",
    "import matplotlib.pyplot as plt\n",
    "import seaborn as sns\n",
    "\n",
    "%matplotlib inline\n",
    "\n",
    "df = pd.read_csv('titanic-data-6.csv')"
   ]
  },
  {
   "cell_type": "markdown",
   "metadata": {},
   "source": [
    "<a id='wrangling'></a>\n",
    "## Data Wrangling\n",
    "<a id='general_properties'></a>\n",
    "### Propriedades Gerais"
   ]
  },
  {
   "cell_type": "code",
   "execution_count": 2,
   "metadata": {},
   "outputs": [
    {
     "data": {
      "text/plain": [
       "(891, 12)"
      ]
     },
     "execution_count": 2,
     "metadata": {},
     "output_type": "execute_result"
    }
   ],
   "source": [
    "#(número de linhas, número de colunas)\n",
    "df.shape"
   ]
  },
  {
   "cell_type": "code",
   "execution_count": 3,
   "metadata": {},
   "outputs": [
    {
     "name": "stdout",
     "output_type": "stream",
     "text": [
      "<class 'pandas.core.frame.DataFrame'>\n",
      "RangeIndex: 891 entries, 0 to 890\n",
      "Data columns (total 12 columns):\n",
      "PassengerId    891 non-null int64\n",
      "Survived       891 non-null int64\n",
      "Pclass         891 non-null int64\n",
      "Name           891 non-null object\n",
      "Sex            891 non-null object\n",
      "Age            714 non-null float64\n",
      "SibSp          891 non-null int64\n",
      "Parch          891 non-null int64\n",
      "Ticket         891 non-null object\n",
      "Fare           891 non-null float64\n",
      "Cabin          204 non-null object\n",
      "Embarked       889 non-null object\n",
      "dtypes: float64(2), int64(5), object(5)\n",
      "memory usage: 83.6+ KB\n"
     ]
    }
   ],
   "source": [
    "df.info()"
   ]
  },
  {
   "cell_type": "markdown",
   "metadata": {},
   "source": [
    "Inicialmente o dataset apresenta 891 linhas e 12 colunas. Nota-se expressiva ausência de valores nas colunas **Age** e **Cabin** (em especial na última, pois somente 23% dos dados da coluna foram preenchidos).\n",
    "<a id=\"labels_considerations\"></a>\n",
    "#### Observações sobre os rótulos de colunas:\n",
    "\n",
    "<ul>\n",
    "    <li>Survived: 0 significa que o passageiro em questão não sobreviveu e 1, que o passageiro sobreviveu</li>\n",
    "    <li>Pclass: classe da passage (1 é primeira classe, etc...)</li>\n",
    "    <li>SibSp: número de irmãos / cônjuges a bordo do navio</li>\n",
    "    <li>Parch: número de pais / filhos a bordo do navio</li>\n",
    "    <li>Fare: tarifa paga pelo passageiro</li>\n",
    "    <li>Cabin: número da cabine</li>\n",
    "    <li>Embarked: local de embarque (C = Cherbourg, Q = Queenstown, S = Southampton)</li>\n",
    "</ul>\n",
    "\n",
    "*Para mais detalhes consultar <a href=\"https://www.kaggle.com/c/titanic/data\">este link</a>*"
   ]
  },
  {
   "cell_type": "code",
   "execution_count": 4,
   "metadata": {},
   "outputs": [
    {
     "data": {
      "text/html": [
       "<div>\n",
       "<style scoped>\n",
       "    .dataframe tbody tr th:only-of-type {\n",
       "        vertical-align: middle;\n",
       "    }\n",
       "\n",
       "    .dataframe tbody tr th {\n",
       "        vertical-align: top;\n",
       "    }\n",
       "\n",
       "    .dataframe thead th {\n",
       "        text-align: right;\n",
       "    }\n",
       "</style>\n",
       "<table border=\"1\" class=\"dataframe\">\n",
       "  <thead>\n",
       "    <tr style=\"text-align: right;\">\n",
       "      <th></th>\n",
       "      <th>PassengerId</th>\n",
       "      <th>Survived</th>\n",
       "      <th>Pclass</th>\n",
       "      <th>Name</th>\n",
       "      <th>Sex</th>\n",
       "      <th>Age</th>\n",
       "      <th>SibSp</th>\n",
       "      <th>Parch</th>\n",
       "      <th>Ticket</th>\n",
       "      <th>Fare</th>\n",
       "      <th>Cabin</th>\n",
       "      <th>Embarked</th>\n",
       "    </tr>\n",
       "  </thead>\n",
       "  <tbody>\n",
       "    <tr>\n",
       "      <th>0</th>\n",
       "      <td>1</td>\n",
       "      <td>0</td>\n",
       "      <td>3</td>\n",
       "      <td>Braund, Mr. Owen Harris</td>\n",
       "      <td>male</td>\n",
       "      <td>22.0</td>\n",
       "      <td>1</td>\n",
       "      <td>0</td>\n",
       "      <td>A/5 21171</td>\n",
       "      <td>7.2500</td>\n",
       "      <td>NaN</td>\n",
       "      <td>S</td>\n",
       "    </tr>\n",
       "    <tr>\n",
       "      <th>1</th>\n",
       "      <td>2</td>\n",
       "      <td>1</td>\n",
       "      <td>1</td>\n",
       "      <td>Cumings, Mrs. John Bradley (Florence Briggs Th...</td>\n",
       "      <td>female</td>\n",
       "      <td>38.0</td>\n",
       "      <td>1</td>\n",
       "      <td>0</td>\n",
       "      <td>PC 17599</td>\n",
       "      <td>71.2833</td>\n",
       "      <td>C85</td>\n",
       "      <td>C</td>\n",
       "    </tr>\n",
       "    <tr>\n",
       "      <th>2</th>\n",
       "      <td>3</td>\n",
       "      <td>1</td>\n",
       "      <td>3</td>\n",
       "      <td>Heikkinen, Miss. Laina</td>\n",
       "      <td>female</td>\n",
       "      <td>26.0</td>\n",
       "      <td>0</td>\n",
       "      <td>0</td>\n",
       "      <td>STON/O2. 3101282</td>\n",
       "      <td>7.9250</td>\n",
       "      <td>NaN</td>\n",
       "      <td>S</td>\n",
       "    </tr>\n",
       "    <tr>\n",
       "      <th>3</th>\n",
       "      <td>4</td>\n",
       "      <td>1</td>\n",
       "      <td>1</td>\n",
       "      <td>Futrelle, Mrs. Jacques Heath (Lily May Peel)</td>\n",
       "      <td>female</td>\n",
       "      <td>35.0</td>\n",
       "      <td>1</td>\n",
       "      <td>0</td>\n",
       "      <td>113803</td>\n",
       "      <td>53.1000</td>\n",
       "      <td>C123</td>\n",
       "      <td>S</td>\n",
       "    </tr>\n",
       "    <tr>\n",
       "      <th>4</th>\n",
       "      <td>5</td>\n",
       "      <td>0</td>\n",
       "      <td>3</td>\n",
       "      <td>Allen, Mr. William Henry</td>\n",
       "      <td>male</td>\n",
       "      <td>35.0</td>\n",
       "      <td>0</td>\n",
       "      <td>0</td>\n",
       "      <td>373450</td>\n",
       "      <td>8.0500</td>\n",
       "      <td>NaN</td>\n",
       "      <td>S</td>\n",
       "    </tr>\n",
       "  </tbody>\n",
       "</table>\n",
       "</div>"
      ],
      "text/plain": [
       "   PassengerId  Survived  Pclass  \\\n",
       "0            1         0       3   \n",
       "1            2         1       1   \n",
       "2            3         1       3   \n",
       "3            4         1       1   \n",
       "4            5         0       3   \n",
       "\n",
       "                                                Name     Sex   Age  SibSp  \\\n",
       "0                            Braund, Mr. Owen Harris    male  22.0      1   \n",
       "1  Cumings, Mrs. John Bradley (Florence Briggs Th...  female  38.0      1   \n",
       "2                             Heikkinen, Miss. Laina  female  26.0      0   \n",
       "3       Futrelle, Mrs. Jacques Heath (Lily May Peel)  female  35.0      1   \n",
       "4                           Allen, Mr. William Henry    male  35.0      0   \n",
       "\n",
       "   Parch            Ticket     Fare Cabin Embarked  \n",
       "0      0         A/5 21171   7.2500   NaN        S  \n",
       "1      0          PC 17599  71.2833   C85        C  \n",
       "2      0  STON/O2. 3101282   7.9250   NaN        S  \n",
       "3      0            113803  53.1000  C123        S  \n",
       "4      0            373450   8.0500   NaN        S  "
      ]
     },
     "execution_count": 4,
     "metadata": {},
     "output_type": "execute_result"
    }
   ],
   "source": [
    "#estrutura inicial do dataset\n",
    "df.head()"
   ]
  },
  {
   "cell_type": "markdown",
   "metadata": {},
   "source": [
    "<a id=\"data_cleaning\"></a>\n",
    "### Data Cleaning\n",
    "\n",
    "Como se pode notar na seção anterior alguns ajustes precisam ser feitos no dataset para garantir a qualidade da análise."
   ]
  },
  {
   "cell_type": "markdown",
   "metadata": {
    "collapsed": true
   },
   "source": [
    "<a id=\"column_removal\"></a>\n",
    "#### Remoção de colunas desnecessárias\n",
    "Os números apresentados na coluna **PassengerId** acompanham o índice automático atribuído pelo *pandas*. Neste caso pode-se optar em transformar a coluna citada em índice ou excluí-la e utilizar o índice automático. A segunda opção foi escolhida.\n",
    "Para fins desta análise as seguintes colunas serão desconsideradas: PassengerId, Name, SibSp, Parch, Ticket, Fare, Cabin, Embarked. Tal decisão deve-se ao fato de a observação inicial dos dados apontar a irrelevância das colunas desconsideradas na questão da sobrevivência dos passageiros e da tripulação."
   ]
  },
  {
   "cell_type": "code",
   "execution_count": 5,
   "metadata": {},
   "outputs": [
    {
     "data": {
      "text/html": [
       "<div>\n",
       "<style scoped>\n",
       "    .dataframe tbody tr th:only-of-type {\n",
       "        vertical-align: middle;\n",
       "    }\n",
       "\n",
       "    .dataframe tbody tr th {\n",
       "        vertical-align: top;\n",
       "    }\n",
       "\n",
       "    .dataframe thead th {\n",
       "        text-align: right;\n",
       "    }\n",
       "</style>\n",
       "<table border=\"1\" class=\"dataframe\">\n",
       "  <thead>\n",
       "    <tr style=\"text-align: right;\">\n",
       "      <th></th>\n",
       "      <th>Survived</th>\n",
       "      <th>Pclass</th>\n",
       "      <th>Sex</th>\n",
       "      <th>Age</th>\n",
       "    </tr>\n",
       "  </thead>\n",
       "  <tbody>\n",
       "    <tr>\n",
       "      <th>0</th>\n",
       "      <td>0</td>\n",
       "      <td>3</td>\n",
       "      <td>male</td>\n",
       "      <td>22.0</td>\n",
       "    </tr>\n",
       "    <tr>\n",
       "      <th>1</th>\n",
       "      <td>1</td>\n",
       "      <td>1</td>\n",
       "      <td>female</td>\n",
       "      <td>38.0</td>\n",
       "    </tr>\n",
       "    <tr>\n",
       "      <th>2</th>\n",
       "      <td>1</td>\n",
       "      <td>3</td>\n",
       "      <td>female</td>\n",
       "      <td>26.0</td>\n",
       "    </tr>\n",
       "    <tr>\n",
       "      <th>3</th>\n",
       "      <td>1</td>\n",
       "      <td>1</td>\n",
       "      <td>female</td>\n",
       "      <td>35.0</td>\n",
       "    </tr>\n",
       "    <tr>\n",
       "      <th>4</th>\n",
       "      <td>0</td>\n",
       "      <td>3</td>\n",
       "      <td>male</td>\n",
       "      <td>35.0</td>\n",
       "    </tr>\n",
       "  </tbody>\n",
       "</table>\n",
       "</div>"
      ],
      "text/plain": [
       "   Survived  Pclass     Sex   Age\n",
       "0         0       3    male  22.0\n",
       "1         1       1  female  38.0\n",
       "2         1       3  female  26.0\n",
       "3         1       1  female  35.0\n",
       "4         0       3    male  35.0"
      ]
     },
     "execution_count": 5,
     "metadata": {},
     "output_type": "execute_result"
    }
   ],
   "source": [
    "#remoção de colunas\n",
    "cols_to_drop = ['PassengerId', 'Name', 'SibSp', 'Parch', 'Ticket', 'Fare', 'Cabin', 'Embarked']\n",
    "\n",
    "df.drop(cols_to_drop, axis=1, inplace=True)\n",
    "\n",
    "#verificação\n",
    "df.head()"
   ]
  },
  {
   "cell_type": "markdown",
   "metadata": {},
   "source": [
    "<a id=\"label_update\"></a>\n",
    "#### Atualização do padrão dos rótulos de coluna\n",
    "Para facilitar a legibilidade os rótulos serão atualizados de forma a apresentarem apenas letras minúsculas"
   ]
  },
  {
   "cell_type": "code",
   "execution_count": 6,
   "metadata": {},
   "outputs": [
    {
     "data": {
      "text/html": [
       "<div>\n",
       "<style scoped>\n",
       "    .dataframe tbody tr th:only-of-type {\n",
       "        vertical-align: middle;\n",
       "    }\n",
       "\n",
       "    .dataframe tbody tr th {\n",
       "        vertical-align: top;\n",
       "    }\n",
       "\n",
       "    .dataframe thead th {\n",
       "        text-align: right;\n",
       "    }\n",
       "</style>\n",
       "<table border=\"1\" class=\"dataframe\">\n",
       "  <thead>\n",
       "    <tr style=\"text-align: right;\">\n",
       "      <th></th>\n",
       "      <th>survived</th>\n",
       "      <th>pclass</th>\n",
       "      <th>sex</th>\n",
       "      <th>age</th>\n",
       "    </tr>\n",
       "  </thead>\n",
       "  <tbody>\n",
       "    <tr>\n",
       "      <th>0</th>\n",
       "      <td>0</td>\n",
       "      <td>3</td>\n",
       "      <td>male</td>\n",
       "      <td>22.0</td>\n",
       "    </tr>\n",
       "    <tr>\n",
       "      <th>1</th>\n",
       "      <td>1</td>\n",
       "      <td>1</td>\n",
       "      <td>female</td>\n",
       "      <td>38.0</td>\n",
       "    </tr>\n",
       "    <tr>\n",
       "      <th>2</th>\n",
       "      <td>1</td>\n",
       "      <td>3</td>\n",
       "      <td>female</td>\n",
       "      <td>26.0</td>\n",
       "    </tr>\n",
       "    <tr>\n",
       "      <th>3</th>\n",
       "      <td>1</td>\n",
       "      <td>1</td>\n",
       "      <td>female</td>\n",
       "      <td>35.0</td>\n",
       "    </tr>\n",
       "    <tr>\n",
       "      <th>4</th>\n",
       "      <td>0</td>\n",
       "      <td>3</td>\n",
       "      <td>male</td>\n",
       "      <td>35.0</td>\n",
       "    </tr>\n",
       "  </tbody>\n",
       "</table>\n",
       "</div>"
      ],
      "text/plain": [
       "   survived  pclass     sex   age\n",
       "0         0       3    male  22.0\n",
       "1         1       1  female  38.0\n",
       "2         1       3  female  26.0\n",
       "3         1       1  female  35.0\n",
       "4         0       3    male  35.0"
      ]
     },
     "execution_count": 6,
     "metadata": {},
     "output_type": "execute_result"
    }
   ],
   "source": [
    "df.rename(columns = lambda x: x.lower(), inplace=True)\n",
    "\n",
    "df.head()"
   ]
  },
  {
   "cell_type": "markdown",
   "metadata": {},
   "source": [
    "<a id=\"null_treatment\"></a>\n",
    "#### Tratamento de colunas com valores nulos\n",
    "Ao se verificar a estrutura atual do dataframe pode-se notar que a coluna **age** apresenta 177 valores nulos. Como essas linhas representam 19,86% do dataframe seria imprudente descartá-las da análise. Para corrigir o problema os valores nulos serão preenchidos com a média das idades apresentadas na coluna citada. "
   ]
  },
  {
   "cell_type": "code",
   "execution_count": 7,
   "metadata": {},
   "outputs": [
    {
     "name": "stdout",
     "output_type": "stream",
     "text": [
      "<class 'pandas.core.frame.DataFrame'>\n",
      "RangeIndex: 891 entries, 0 to 890\n",
      "Data columns (total 4 columns):\n",
      "survived    891 non-null int64\n",
      "pclass      891 non-null int64\n",
      "sex         891 non-null object\n",
      "age         714 non-null float64\n",
      "dtypes: float64(1), int64(2), object(1)\n",
      "memory usage: 27.9+ KB\n"
     ]
    }
   ],
   "source": [
    "df.info()"
   ]
  },
  {
   "cell_type": "code",
   "execution_count": 8,
   "metadata": {},
   "outputs": [
    {
     "data": {
      "text/plain": [
       "177"
      ]
     },
     "execution_count": 8,
     "metadata": {},
     "output_type": "execute_result"
    }
   ],
   "source": [
    "df['age'].isnull().sum()"
   ]
  },
  {
   "cell_type": "code",
   "execution_count": 9,
   "metadata": {},
   "outputs": [
    {
     "data": {
      "text/plain": [
       "0"
      ]
     },
     "execution_count": 9,
     "metadata": {},
     "output_type": "execute_result"
    }
   ],
   "source": [
    "#cálculo da média das idades\n",
    "age_mean = df['age'].mean()\n",
    "\n",
    "#preenchimento dos valores vazios na coluna \"age\"\n",
    "df['age'].fillna(age_mean, inplace=True)\n",
    "\n",
    "#verificação da operação\n",
    "df['age'].isnull().sum()"
   ]
  },
  {
   "cell_type": "markdown",
   "metadata": {},
   "source": [
    "<a id=\"datatype_change\"></a>\n",
    "#### Mudanças de tipo de dados\n",
    "\n",
    "Os dados da coluna **survived** são do tipo *int* e os da coluna **age**, *float*. Para melhorar a legibidade dos dados será usado o tipo *bool* para **survived** e *int* para **age**"
   ]
  },
  {
   "cell_type": "code",
   "execution_count": 10,
   "metadata": {},
   "outputs": [],
   "source": [
    "#conversão da coluna survived\n",
    "df['survived'] = df['survived'].astype(bool)\n",
    "\n",
    "#conversão da coluna age\n",
    "df['age'] = df['age'].astype(int)"
   ]
  },
  {
   "cell_type": "code",
   "execution_count": 11,
   "metadata": {},
   "outputs": [
    {
     "data": {
      "text/html": [
       "<div>\n",
       "<style scoped>\n",
       "    .dataframe tbody tr th:only-of-type {\n",
       "        vertical-align: middle;\n",
       "    }\n",
       "\n",
       "    .dataframe tbody tr th {\n",
       "        vertical-align: top;\n",
       "    }\n",
       "\n",
       "    .dataframe thead th {\n",
       "        text-align: right;\n",
       "    }\n",
       "</style>\n",
       "<table border=\"1\" class=\"dataframe\">\n",
       "  <thead>\n",
       "    <tr style=\"text-align: right;\">\n",
       "      <th></th>\n",
       "      <th>survived</th>\n",
       "      <th>pclass</th>\n",
       "      <th>sex</th>\n",
       "      <th>age</th>\n",
       "    </tr>\n",
       "  </thead>\n",
       "  <tbody>\n",
       "    <tr>\n",
       "      <th>0</th>\n",
       "      <td>False</td>\n",
       "      <td>3</td>\n",
       "      <td>male</td>\n",
       "      <td>22</td>\n",
       "    </tr>\n",
       "    <tr>\n",
       "      <th>1</th>\n",
       "      <td>True</td>\n",
       "      <td>1</td>\n",
       "      <td>female</td>\n",
       "      <td>38</td>\n",
       "    </tr>\n",
       "    <tr>\n",
       "      <th>2</th>\n",
       "      <td>True</td>\n",
       "      <td>3</td>\n",
       "      <td>female</td>\n",
       "      <td>26</td>\n",
       "    </tr>\n",
       "    <tr>\n",
       "      <th>3</th>\n",
       "      <td>True</td>\n",
       "      <td>1</td>\n",
       "      <td>female</td>\n",
       "      <td>35</td>\n",
       "    </tr>\n",
       "    <tr>\n",
       "      <th>4</th>\n",
       "      <td>False</td>\n",
       "      <td>3</td>\n",
       "      <td>male</td>\n",
       "      <td>35</td>\n",
       "    </tr>\n",
       "  </tbody>\n",
       "</table>\n",
       "</div>"
      ],
      "text/plain": [
       "   survived  pclass     sex  age\n",
       "0     False       3    male   22\n",
       "1      True       1  female   38\n",
       "2      True       3  female   26\n",
       "3      True       1  female   35\n",
       "4     False       3    male   35"
      ]
     },
     "execution_count": 11,
     "metadata": {},
     "output_type": "execute_result"
    }
   ],
   "source": [
    "df.head()"
   ]
  },
  {
   "cell_type": "markdown",
   "metadata": {},
   "source": [
    "<a id='eda'></a>\n",
    "## Exploratory Data Analysis\n",
    "<a id=\"question_1\"></a>\n",
    "### Questão 1: qual é a relação entre a idade e o fato de ser um sobrevivente ou um não-sobrevivente?\n"
   ]
  },
  {
   "cell_type": "code",
   "execution_count": 62,
   "metadata": {},
   "outputs": [
    {
     "data": {
      "image/png": "[encoded data removed]",
      "text/plain": [
       "<Figure size 1080x504 with 1 Axes>"
      ]
     },
     "metadata": {
      "needs_background": "light"
     },
     "output_type": "display_data"
    }
   ],
   "source": [
    "# definição do tamanho padrão para a fonte aplicada a legenda dos eixos\n",
    "axis_text_fontsize = 16\n",
    "\n",
    "# definição do tamanho padrão dos gráficos utilizados na análise\n",
    "standard_figsize = (15,7)\n",
    "\n",
    "# definição do tamanho padrão para o título dos gráficos\n",
    "standard_title_fontsize = 18\n",
    "\n",
    "df.groupby('survived')['age'].plot.hist(alpha=0.5, figsize=standard_figsize);\n",
    "\n",
    "# definição dos textos dos eixos e do título\n",
    "plt.ylabel('Frequência', fontsize=axis_text_fontsize);\n",
    "plt.xlabel('Idade', fontsize=axis_text_fontsize);\n",
    "plt.title('Distribuição de idade entre sobreviventes (True) e não-sobreviventes (False)', fontsize=standard_title_fontsize);\n",
    "\n",
    "#mostrar legenda\n",
    "plt.legend();"
   ]
  },
  {
   "cell_type": "markdown",
   "metadata": {},
   "source": [
    "O histograma acima evidencia o fato de que tanto o grupo de sobreviventes quanto o de não sobreviventes apresenta uma distribuição assimétrica com distorção à direita. Pode-se notar que, exceto passageiros na faixa dos 10 anos, todas as etárias apresentam um número maior de não sobreviventes do que de sobreviventes (com destaque para a faixa de 25 a 35 anos, na qual o número de não sobreviventes é muito superior ao de não-sobreviventes).\n",
    "\n",
    "Para evidenciar de forma mais concisa a relação proposta optou-se pela formação de grupos de acordo com a faixa etária:"
   ]
  },
  {
   "cell_type": "code",
   "execution_count": 88,
   "metadata": {},
   "outputs": [
    {
     "data": {
      "image/png": "[encoded data removed]",
      "text/plain": [
       "<Figure size 1080x504 with 1 Axes>"
      ]
     },
     "metadata": {
      "needs_background": "light"
     },
     "output_type": "display_data"
    }
   ],
   "source": [
    "#separação dos dados de acordo com a faixa etária \n",
    "df['age_group'] = pd.cut(df['age'], [0, 14, 50, 150], labels=['crianças', 'adultos', 'idosos'])\n",
    "\n",
    "# plot do gráfico\n",
    "ax = df.groupby(['age_group', 'survived']).size().unstack().plot.bar(alpha=0.8, figsize=standard_figsize);\n",
    "\n",
    "# definição das legendas de eixos e do título\n",
    "ax.set_title('Distribuição de sobreviventes e não-sobreviventes de acordo com a faixa etária', \\\n",
    "             fontsize=standard_title_fontsize);\n",
    "ax.set_xlabel('Faixa Etária', fontsize=axis_text_fontsize);\n",
    "ax.set_ylabel('Passageiros e Tripulação', fontsize=axis_text_fontsize);\n",
    "\n",
    "# exibição da legenda dos valores sobre as colunas\n",
    "for i in ax.patches:\n",
    "    ax.text(i.get_x()+0.09, i.get_height()+5, str(round((i.get_height()), 2)), fontsize=11)"
   ]
  },
  {
   "cell_type": "markdown",
   "metadata": {},
   "source": [
    "A partir do gráfico acima conclui-se que a maioria das crianças sobreviveu, enquanto a maioria dos adultos e idosos sucumbiu ao acidente."
   ]
  },
  {
   "cell_type": "markdown",
   "metadata": {},
   "source": [
    "<a id=\"question_2\"></a>\n",
    "### Questão 2: qual a relação entre a classe do bilhete entre os sobreviventes e os não-sobreviventes?"
   ]
  },
  {
   "cell_type": "code",
   "execution_count": 68,
   "metadata": {},
   "outputs": [
    {
     "data": {
      "image/png": "[encoded data removed]",
      "text/plain": [
       "<Figure size 1080x504 with 1 Axes>"
      ]
     },
     "metadata": {
      "needs_background": "light"
     },
     "output_type": "display_data"
    }
   ],
   "source": [
    "# agrupamento dos dados de acordo com a sobrevivência e a classe do bilhete\n",
    "ax = df.groupby(['pclass', 'survived']).size().unstack().plot.bar(figsize=standard_figsize, alpha=0.8)\n",
    "\n",
    "# definição de legendas para o título e para os eixos\n",
    "ax.set_title('Distribuição de sobreviventes (True) e não-sobreviventes (False) de acordo com a classe do bilhete', \\\n",
    "             fontsize=standard_title_fontsize)\n",
    "ax.set_ylabel('Passageiros', fontsize=axis_text_fontsize)\n",
    "ax.set_xlabel('Classe do Bilhete', fontsize=axis_text_fontsize)\n",
    "\n",
    "# exibição dos valores sobre as colunas\n",
    "for i in ax.patches:\n",
    "    ax.text(i.get_x()+0.09, i.get_height()+5, str(round((i.get_height()), 2)), fontsize=11)"
   ]
  },
  {
   "cell_type": "markdown",
   "metadata": {},
   "source": [
    "Com base no gráfico acima pode-se afirmar que, dentre passageiros de uma mesma classe, a maior parte das baixas ocorreu entre passageiros da classe C enquanto o maior número de sobreviventes está entre os passageiros da classe A."
   ]
  },
  {
   "cell_type": "markdown",
   "metadata": {},
   "source": [
    "<a id=\"question_3\"></a>\n",
    "### Questão 3: qual a relevância do sexo em relação à sobrevivência?"
   ]
  },
  {
   "cell_type": "code",
   "execution_count": 83,
   "metadata": {},
   "outputs": [
    {
     "data": {
      "image/png": "[encoded data removed]",
      "text/plain": [
       "<Figure size 1080x504 with 1 Axes>"
      ]
     },
     "metadata": {
      "needs_background": "light"
     },
     "output_type": "display_data"
    }
   ],
   "source": [
    "# agrupamento dos dados de acordo com a sobrevivência e com o sexo\n",
    "ax = df.groupby(['survived', 'sex']).size().unstack().plot.bar(alpha=0.6,figsize=standard_figsize, \\\n",
    "                                                               color=['red', 'DarkBlue']);\n",
    "\n",
    "# definição das legendas dos eixos e do título\n",
    "ax.set_title('Distribuição de sobreviventes de acordo com sexo', fontsize=standard_title_fontsize);\n",
    "ax.set_ylabel('Passageiros e Tripulação', fontsize=axis_text_fontsize);\n",
    "ax.set_xlabel('Sobrevivente', fontsize=axis_text_fontsize);\n",
    "\n",
    "#exibição dos valores sobre as colunas\n",
    "for i in ax.patches:\n",
    "    ax.text(i.get_x()+0.09, i.get_height()+5, str(round((i.get_height()), 2)), fontsize=11)"
   ]
  },
  {
   "cell_type": "markdown",
   "metadata": {},
   "source": [
    "De acordo com o histograma acima nota-se que a maior parte dos sobreviventes é do sexo feminino."
   ]
  },
  {
   "cell_type": "markdown",
   "metadata": {},
   "source": [
    "<a id='conclusions'></a>\n",
    "## Conclusões\n",
    "\n",
    "Após a aplicação de todas as etapas inerentes ao processo de análise de dados algumas conclusões relevantes foram tiradas a respeito do dataset em questão. A combinação das respostas das duas perguntas feitas durante a análise exploratória de dados apontou para o fato de que a maioria dos sobreviventes do naufrágio do navio Titanic se encontra na faixa dos 20 aos 40 anos e que a maior (e uma das únicas poucas) faixa etária a apresenta número maior de sobreviventes do que de não-sobreviventes foi a de 0 a 10 anos.  Além disso o maior grupo de sobreviventes é do sexo feminino. Em proporção, a maior parte dos passageiros que não sobreviveram ao acidente foi aquela que comprara bilhetes da classe C."
   ]
  },
  {
   "cell_type": "markdown",
   "metadata": {},
   "source": [
    "<a id=\"final_considerations\"></a>\n",
    "### Considerações sobre as limitações da análise\n",
    "\n",
    "A presente análise se baseia em um dataset que contém 891 registros (como demonstrado em <a href=\"#general_properties\">**Propriedades Gerais**</a>). Levando-se em consideração que o Titanic apresentava uma contagem de 2224 passageiros e tripulantes na viagem em que ocorreu o acidente o conjunto de dados representa **40,06%** do número total de pessoas a bordo do navio. Tal fato aliado a ausência de testes estatísticos fazem com que essa análise tenha um alcance limitado mas apresente resultados coerentes, concisos e representativos.\n",
    "A presença de valores nulos ao longo do conjunto de dados sempre é uma questão delicada que pode ser abordada de várias formas diferentes, como: ignorar os registros que apresentam valores nulos, substituir valores por outros (média, por exemplo), construir modelos para prever valores faltantes, etc. Na seção <a href=\"#null_treatment\">Tratamento de colunas com valores nulos</a> nota-se a presença de um exemplo da abordagem na qual as lacunas nos valores da coluna **age** foram preenchidas com a média obtida com os valores da própria coluna. Existem abordagens estatísticas que favorecem a utilização da <a href=\"https://pt.wikipedia.org/wiki/Mediana_(estat%C3%ADstica)\">mediana</a> a despeito da média porque ela apresenta um melhor valor *típico* por não ser tão distorcida nos valores das extremidades. No conjunto de dados em questão os valores  da média e da mediana são muito próximos (como demonstrado abaixo), o que faz com que o valor considerado não comprometa expressivamente a análise."
   ]
  },
  {
   "cell_type": "code",
   "execution_count": null,
   "metadata": {},
   "outputs": [],
   "source": []
  }
 ],
 "metadata": {
  "kernelspec": {
   "display_name": "Python 3",
   "language": "python",
   "name": "python3"
  },
  "language_info": {
   "codemirror_mode": {
    "name": "ipython",
    "version": 3
   },
   "file_extension": ".py",
   "mimetype": "text/x-python",
   "name": "python",
   "nbconvert_exporter": "python",
   "pygments_lexer": "ipython3",
   "version": "3.7.0"
  }
 },
 "nbformat": 4,
 "nbformat_minor": 2
}
