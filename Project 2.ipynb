{
 "cells": [
  {
   "cell_type": "markdown",
   "metadata": {},
   "source": [
    "# Projeto: análise de um conjunto de dados referente aos tripulantes e passageiros a bordo do Titanic\n",
    "\n",
    "## Conteúdo\n",
    "<ul>\n",
    "<li><a href=\"#intro\">Introdução</a></li>\n",
    "<li><a href=\"#wrangling\">Data Wrangling</a></li>\n",
    "    <ul>\n",
    "        <li><a href=\"#labels_considerations\">Observações sobre os rótulos de colunas</a></li>\n",
    "    </ul>\n",
    "<li><a href=\"#data_cleaning\">Data Cleaning</a></li>\n",
    "        <ul>\n",
    "            <li><a href=\"#column_removal\">Remoção de colunas desnecessárias</a></li>\n",
    "            <li><a href=\"#label_update\">Atualização do padrão dos rótulos de coluna</a></li>\n",
    "            <li><a href=\"#null_treatment\">Tratamento de colunas com valores nulos</a></li>\n",
    "            <li><a href=\"#datatype_change\">Mudanças de tipo de dados</a></li> \n",
    "        </ul>\n",
    "<li><a href=\"#eda\">Exploratory Data Analysis</a></li>\n",
    "    <ul>\n",
    "        <li><a href=\"#question_1\">Questão 1: qual é a relação entre a idade e o fato de ser um sobrevivente ou um não-sobrevivente?</a></li>\n",
    "        <li><a href=\"#question_2\">Questão 2: qual a relação entre a classe do bilhete entre os sobreviventes e os não-sobreviventes?</a></li>\n",
    "        <li><a href=\"#question_3\">Questão 3: qual a relevância do sexo em relação à sobrevivência?</a></li>\n",
    "    </ul>\n",
    "<li><a href=\"#conclusions\">Conclusões</a></li>\n",
    "</ul>"
   ]
  },
  {
   "cell_type": "markdown",
   "metadata": {},
   "source": [
    "<a id='intro'></a>\n",
    "## Introdução\n",
    "\n",
    "*\"O acidente do RMS Titatic é um dos mais infames naufrágios da história. Em 15 de abril de 1912, durante sua viagem de estreia, o Titanic afundou depois de colidir com um iceberg provocando a morte de 1502 dos seus 2224 passageiros e tripulação. Tal tragédia chocou a comunidade internacional e levou a regulamentos de segurança mais rígidos para embarcações\"*\n",
    "<br>\n",
    "*(tradução livre do <a href=\"https://www.kaggle.com/c/titanic\">**texto original**</a>)*\n",
    "<br>\n",
    "<br>\n",
    "A presente análise tem o untuito de explorar um dataset que contém dados dos passageiros e da tripulação do RMS Titanic em sua primeira e única viagem. O objetivo é levantar questões relevantes a respeito do naufrário através da aplicação de técnicas de análises de dados e de estatística descritiva."
   ]
  },
  {
   "cell_type": "code",
   "execution_count": null,
   "metadata": {},
   "outputs": [],
   "source": [
    "# importação de pacotes e carregamento dos dados\n",
    "import pandas as pd\n",
    "import matplotlib.pyplot as plt\n",
    "import seaborn as sns\n",
    "\n",
    "%matplotlib inline\n",
    "\n",
    "df = pd.read_csv('titanic-data-6.csv')"
   ]
  },
  {
   "cell_type": "markdown",
   "metadata": {},
   "source": [
    "<a id='wrangling'></a>\n",
    "## Data Wrangling\n",
    "\n",
    "### Propriedades Gerais"
   ]
  },
  {
   "cell_type": "code",
   "execution_count": null,
   "metadata": {},
   "outputs": [],
   "source": [
    "#(número de linhas, número de colunas)\n",
    "df.shape"
   ]
  },
  {
   "cell_type": "code",
   "execution_count": null,
   "metadata": {},
   "outputs": [],
   "source": [
    "df.info()"
   ]
  },
  {
   "cell_type": "markdown",
   "metadata": {},
   "source": [
    "Inicialmente o dataset apresenta 891 linhas e 12 colunas.\n",
    "<a id=\"labels_considerations\"></a>\n",
    "#### Observações sobre os rótulos de colunas:\n",
    "\n",
    "<ul>\n",
    "    <li>Survived: 0 significa que o passageiro em questão não sobreviveu e 1, que o passageiro sobreviveu</li>\n",
    "    <li>Pclass: classe da passage (1 é primeira classe, etc...)</li>\n",
    "    <li>SibSp: número de irmãos / cônjuges a bordo do navio</li>\n",
    "    <li>Parch: número de pais / filhos a bordo do navio</li>\n",
    "    <li>Fare: tarifa paga pelo passageiro</li>\n",
    "    <li>Cabin: número da cabine</li>\n",
    "    <li>Embarked: local de embarque (C = Cherbourg, Q = Queenstown, S = Southampton)</li>\n",
    "</ul>\n",
    "\n",
    "*Para mais detalhes consultar <a href=\"https://www.kaggle.com/c/titanic/data\">este link</a>*"
   ]
  },
  {
   "cell_type": "code",
   "execution_count": null,
   "metadata": {},
   "outputs": [],
   "source": [
    "#estrutura inicial do dataset\n",
    "df.head()"
   ]
  },
  {
   "cell_type": "markdown",
   "metadata": {},
   "source": [
    "<a id=\"data_cleaning\"></a>\n",
    "### Data Cleaning\n",
    "\n",
    "Como se pode notar na seção anterior alguns ajustes precisam ser feitos no dataset para garantir a qualidade da análise."
   ]
  },
  {
   "cell_type": "markdown",
   "metadata": {
    "collapsed": true
   },
   "source": [
    "<a id=\"column_removal\"></a>\n",
    "#### Remoção de colunas desnecessárias\n",
    "Os números apresentados na coluna **PassengerId** acompanham o índice automático atribuído pelo *pandas*. Neste caso pode-se optar em transformar a coluna citada em índice ou excluí-la e utilizar o índice automático. A segunda opção foi escolhida.\n",
    "Para fins desta análise as seguintes colunas serão desconsideradas: PassengerId, Name, SibSp, Parch, Ticket, Fare, Cabin, Embarked. Tal decisão deve-se ao fato de a observação inicial dos dados apontar a irrelevância das colunas desconsideradas na questão da sobrevivência dos passageiros e da tripulação."
   ]
  },
  {
   "cell_type": "code",
   "execution_count": null,
   "metadata": {},
   "outputs": [],
   "source": [
    "#remoção de colunas\n",
    "cols_to_drop = ['PassengerId', 'Name', 'SibSp', 'Parch', 'Ticket', 'Fare', 'Cabin', 'Embarked']\n",
    "\n",
    "df.drop(cols_to_drop, axis=1, inplace=True)\n",
    "\n",
    "#verificação\n",
    "df.head()"
   ]
  },
  {
   "cell_type": "markdown",
   "metadata": {},
   "source": [
    "<a id=\"label_update\"></a>\n",
    "#### Atualização do padrão dos rótulos de coluna\n",
    "Para facilitar a legibilidade os rótulos serão atualizados de forma a apresentarem apenas letras minúsculas"
   ]
  },
  {
   "cell_type": "code",
   "execution_count": null,
   "metadata": {},
   "outputs": [],
   "source": [
    "df.rename(columns = lambda x: x.lower(), inplace=True)\n",
    "\n",
    "df.head()"
   ]
  },
  {
   "cell_type": "markdown",
   "metadata": {},
   "source": [
    "<a id=\"null_treatment\"></a>\n",
    "#### Tratamento de colunas com valores nulos\n",
    "Ao se verificar a estrutura atual do dataframe pode-se notar que a coluna **age** apresenta 177 valores nulos. Como essas linhas representam 19,86% do dataframe seria imprudente descartá-las da análise. Para corrigir o problema os valores nulos serão preenchidos com a média das idades apresentadas na coluna citada. "
   ]
  },
  {
   "cell_type": "code",
   "execution_count": null,
   "metadata": {},
   "outputs": [],
   "source": [
    "df.info()"
   ]
  },
  {
   "cell_type": "code",
   "execution_count": null,
   "metadata": {},
   "outputs": [],
   "source": [
    "df['age'].isnull().sum()"
   ]
  },
  {
   "cell_type": "code",
   "execution_count": null,
   "metadata": {},
   "outputs": [],
   "source": [
    "#cálculo da média das idades\n",
    "age_mean = df['age'].mean()\n",
    "\n",
    "#preenchimento dos valores vazios na coluna \"age\"\n",
    "df['age'].fillna(age_mean, inplace=True)\n",
    "\n",
    "#verificação da operação\n",
    "df['age'].isnull().sum()"
   ]
  },
  {
   "cell_type": "markdown",
   "metadata": {},
   "source": [
    "<a id=\"datatype_change\"></a>\n",
    "#### Mudanças de tipo de dados\n",
    "\n",
    "Os dados da coluna **survived** são do tipo *int* e os da coluna **age**, *float*. Para melhorar a legibidade dos dados será usado o tipo *bool* para **survived** e *int* para **age**"
   ]
  },
  {
   "cell_type": "code",
   "execution_count": null,
   "metadata": {},
   "outputs": [],
   "source": [
    "#conversão da coluna survived\n",
    "df['survived'] = df['survived'].astype(bool)\n",
    "\n",
    "#conversão da coluna age\n",
    "df['age'] = df['age'].astype(int)"
   ]
  },
  {
   "cell_type": "code",
   "execution_count": null,
   "metadata": {},
   "outputs": [],
   "source": [
    "df.head()"
   ]
  },
  {
   "cell_type": "markdown",
   "metadata": {},
   "source": [
    "<a id='eda'></a>\n",
    "## Exploratory Data Analysis\n",
    "<a id=\"question_1\"></a>\n",
    "### Questão 1: qual é a relação entre a idade e o fato de ser um sobrevivente ou um não-sobrevivente?\n"
   ]
  },
  {
   "cell_type": "code",
   "execution_count": null,
   "metadata": {},
   "outputs": [],
   "source": [
    "# visualização do histograma\n",
    "df.groupby('survived')['age'].plot.hist(alpha=0.5);\n",
    "plt.ylabel('Frequência');\n",
    "plt.xlabel('idade');\n",
    "plt.title('Distribuição de idade entre sobreviventes (True) e não-sobreviventes (False)');\n",
    "#plt.legend(['não-sob', 'sob'])\n",
    "plt.legend();"
   ]
  },
  {
   "cell_type": "markdown",
   "metadata": {},
   "source": [
    "O histograma acima evidencia o fato de que tanto o grupo de sobreviventes quanto o de não sobreviventes apresenta uma distribuição assimétrica com distorção à direita. Pode-se notar que, exceto passageiros na faixa dos 10 anos, todas as etárias apresentam um número maior de não sobreviventes do que de sobreviventes (com destaque para a faixa de 25 a 35 anos, na qual o número de não sobreviventes é muito superior ao de não-sobreviventes)."
   ]
  },
  {
   "cell_type": "markdown",
   "metadata": {},
   "source": [
    "<a id=\"question_2\"></a>\n",
    "### Questão 2: qual a relação entre a classe do bilhete entre os sobreviventes e os não-sobreviventes?"
   ]
  },
  {
   "cell_type": "code",
   "execution_count": null,
   "metadata": {},
   "outputs": [],
   "source": [
    "df.groupby('survived')['pclass'].plot.hist(alpha=0.5);\n",
    "plt.ylabel('Frequência');\n",
    "plt.xlabel('Classe do Bilhete');\n",
    "plt.title('Distribuição de classe do bilhete entre sobreviventes (True) e não-sobreviventes (False)');\n",
    "plt.xticks([1, 2, 3])\n",
    "plt.legend();"
   ]
  },
  {
   "cell_type": "markdown",
   "metadata": {},
   "source": [
    "Com base no histograma acima pode-se afirmar que, dentre passageiros de uma mesma classe, a maior parte das baixas ocorreu entre passageiros da classe C enquanto o maior número de sobreviventes está entre os passageiros da classe A. "
   ]
  },
  {
   "cell_type": "markdown",
   "metadata": {},
   "source": [
    "<a id=\"question_3\"></a>\n",
    "### Questão 3: qual a relevância do sexo em relação à sobrevivência?"
   ]
  },
  {
   "cell_type": "code",
   "execution_count": null,
   "metadata": {},
   "outputs": [],
   "source": [
    "df.groupby(['survived', 'sex']).count()['age'].unstack().plot.bar(alpha=0.5);\n",
    "plt.ylabel('Frequência');\n",
    "plt.xlabel('Sobrevivente');\n",
    "plt.title('Distribuição de sobreviventes de acordo com sexo');\n",
    "plt.legend();"
   ]
  },
  {
   "cell_type": "markdown",
   "metadata": {},
   "source": [
    "De acordo com o histograma acima nota-se que a maior parte dos sobreviventes é do sexo feminino."
   ]
  },
  {
   "cell_type": "markdown",
   "metadata": {},
   "source": [
    "<a id='conclusions'></a>\n",
    "## Conclusões\n",
    "\n",
    "Após a aplicação de todas as etapas inerentes ao processo de análise de dados algumas conclusões relevantes foram tiradas a respeito do dataset em questão. A combinação das respostas das duas perguntas feitas durante a análise exploratória de dados apontou para o fato de que a maioria dos sobreviventes do naufrágio do navio Titanic se encontra na faixa dos 20 aos 40 anos e que a maior (e uma das únicas poucas) faixa etária a apresenta número maior de sobreviventes do que de não-sobreviventes foi a de 0 a 10 anos.  Além disso o maior grupo de sobreviventes é do sexo feminino. Em proporção, a maior parte dos passageiros que não sobreviveram ao acidente foi aquela que comprara bilhetes da classe C."
   ]
  }
 ],
 "metadata": {
  "kernelspec": {
   "display_name": "Python 3",
   "language": "python",
   "name": "python3"
  },
  "language_info": {
   "codemirror_mode": {
    "name": "ipython",
    "version": 3
   },
   "file_extension": ".py",
   "mimetype": "text/x-python",
   "name": "python",
   "nbconvert_exporter": "python",
   "pygments_lexer": "ipython3",
   "version": "3.7.0"
  }
 },
 "nbformat": 4,
 "nbformat_minor": 2
}
